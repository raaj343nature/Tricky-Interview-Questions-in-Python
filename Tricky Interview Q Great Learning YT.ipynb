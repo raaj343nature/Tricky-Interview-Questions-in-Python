{
 "cells": [
  {
   "cell_type": "markdown",
   "id": "79283835",
   "metadata": {},
   "source": [
    "## 1. How do you implement a probability plot using Numpy and Matplotlib?"
   ]
  },
  {
   "cell_type": "code",
   "execution_count": 1,
   "id": "88b32bd2",
   "metadata": {},
   "outputs": [
    {
     "data": {
      "image/png": "[encoded data removed]",
      "text/plain": [
       "<Figure size 432x288 with 1 Axes>"
      ]
     },
     "metadata": {
      "needs_background": "light"
     },
     "output_type": "display_data"
    }
   ],
   "source": [
    "import numpy as np\n",
    "import pylab\n",
    "import scipy.stats as stats\n",
    "from matplotlib import pyplot as plt\n",
    "\n",
    "n1=np.random.normal(loc=0, scale=3, size=1000)\n",
    "np.percentile(n1, 100)\n",
    "\n",
    "n1=np.random.normal(loc=20, scale=3, size=100)\n",
    "\n",
    "stats.probplot(n1, dist='norm', plot=pylab)\n",
    "\n",
    "plt.show()"
   ]
  },
  {
   "cell_type": "markdown",
   "id": "a8f0e2cc",
   "metadata": {},
   "source": [
    "## 2. How do you update the value of 'Apple' from 10 to 100?"
   ]
  },
  {
   "cell_type": "code",
   "execution_count": 2,
   "id": "979b30d2",
   "metadata": {},
   "outputs": [
    {
     "data": {
      "text/plain": [
       "{'Apple': 100, 'Orange': 20, 'Mango': 30, 'Avocado': 40}"
      ]
     },
     "execution_count": 2,
     "metadata": {},
     "output_type": "execute_result"
    }
   ],
   "source": [
    "fruits={'Apple':100, 'Orange':20, 'Mango':30, 'Avocado':40}\n",
    "\n",
    "fruits['Apple']=100\n",
    "fruits"
   ]
  },
  {
   "cell_type": "markdown",
   "id": "cfda7ab6",
   "metadata": {},
   "source": [
    "## 3. How would you find common elements present in the given two sets?"
   ]
  },
  {
   "cell_type": "code",
   "execution_count": 3,
   "id": "dd7146cb",
   "metadata": {},
   "outputs": [
    {
     "data": {
      "text/plain": [
       "{5, 6}"
      ]
     },
     "execution_count": 3,
     "metadata": {},
     "output_type": "execute_result"
    }
   ],
   "source": [
    "s1={1,2,3,4,5,6}\n",
    "\n",
    "s2={5,6,7,8,9}\n",
    "\n",
    "s1.intersection(s2)"
   ]
  },
  {
   "cell_type": "markdown",
   "id": "b9a33319",
   "metadata": {},
   "source": [
    "## 4. Implement the logic to check if the number is a palindrome or not.\n"
   ]
  },
  {
   "cell_type": "code",
   "execution_count": 4,
   "id": "102c6fd5",
   "metadata": {},
   "outputs": [
    {
     "name": "stdout",
     "output_type": "stream",
     "text": [
      "Enter number:121\n",
      "The number is a palindrome!\n"
     ]
    }
   ],
   "source": [
    "# 121 is a palindrome. A number is called Palindrome when it remains the same even after reversing. \n",
    "\n",
    "n=int(input('Enter number:'))\n",
    "\n",
    "temp=n\n",
    "rev=0\n",
    "\n",
    "while (n>0):\n",
    "    dig=n%10\n",
    "    rev=rev* 10+dig\n",
    "    n=n//10\n",
    "    \n",
    "if(temp==rev):\n",
    "   print('The number is a palindrome!')\n",
    "else:\n",
    "   print('The number is not a palindrome!')"
   ]
  },
  {
   "cell_type": "markdown",
   "id": "5648256f",
   "metadata": {},
   "source": [
    "## 5. Write a program that prints the following pattern.\n",
    "\n",
    "## 1\n",
    "## 2 2\n",
    "## 3 3 3\n",
    "## 4 4 4 4\n",
    "## 5 5 5 5 5\n",
    "\n"
   ]
  },
  {
   "cell_type": "code",
   "execution_count": 8,
   "id": "6311855f",
   "metadata": {},
   "outputs": [
    {
     "name": "stdout",
     "output_type": "stream",
     "text": [
      "\n",
      "\n",
      "1 \n",
      "\n",
      "2 2 \n",
      "\n",
      "3 3 3 \n",
      "\n",
      "4 4 4 4 \n",
      "\n",
      "5 5 5 5 5 \n",
      "\n"
     ]
    }
   ],
   "source": [
    "for num in range(6):\n",
    "    for i in range (num):\n",
    "        print(num, end=\" \")\n",
    "    print('\\n')\n",
    "        \n",
    "# Two loops working here,outer loop controls the range of the data and inner loop controls the movement of the data.\n",
    "# \\n is used to create a new line. "
   ]
  },
  {
   "cell_type": "code",
   "execution_count": 18,
   "id": "847c22f1",
   "metadata": {},
   "outputs": [
    {
     "name": "stdout",
     "output_type": "stream",
     "text": [
      "#\n",
      "\n",
      "##\n",
      "\n",
      "###\n",
      "\n",
      "####\n",
      "\n",
      "#####\n",
      "\n"
     ]
    }
   ],
   "source": [
    "def pattern_print(n):\n",
    "    for i in range(0,n):\n",
    "        for j in range(0, i+1):\n",
    "            print('#', end='')\n",
    "        print('\\n')\n",
    "            \n",
    "pattern_print(5)"
   ]
  },
  {
   "cell_type": "markdown",
   "id": "bc48f2e7",
   "metadata": {},
   "source": [
    "## Generating random numbers in a given range. "
   ]
  },
  {
   "cell_type": "code",
   "execution_count": 27,
   "id": "b0bf8e3c",
   "metadata": {},
   "outputs": [
    {
     "name": "stdout",
     "output_type": "stream",
     "text": [
      "0.18646564413165734\n",
      "49\n"
     ]
    }
   ],
   "source": [
    "import random\n",
    "n=random.random()\n",
    "\n",
    "print(n)\n",
    "\n",
    "\n",
    "#To generate a integer between a range (a,b)\n",
    "\n",
    "n=random.randint(10, 50)\n",
    "print(n)\n"
   ]
  },
  {
   "cell_type": "markdown",
   "id": "3cc1f7a6",
   "metadata": {},
   "source": [
    "## Denote the usage of args and kwargs in Python"
   ]
  },
  {
   "cell_type": "code",
   "execution_count": 28,
   "id": "6465efd8",
   "metadata": {},
   "outputs": [
    {
     "name": "stdout",
     "output_type": "stream",
     "text": [
      "(1, 'Hello')\n",
      "{'name': 'Rajkumar'}\n"
     ]
    }
   ],
   "source": [
    "def func1(*args, **kwargs):\n",
    "    print(args)\n",
    "    print(kwargs)\n",
    "    \n",
    "func1(1, 'Hello', name='Rajkumar')\n",
    "\n",
    "#*args passes variable number of non-keyworded arguments \n",
    "# kwargs passes variable number of keyword arguments and returns the values\n",
    "# in the form of a dictionary. "
   ]
  },
  {
   "cell_type": "markdown",
   "id": "a59b36f1",
   "metadata": {},
   "source": [
    "## How do you shallow copy in Python?\n"
   ]
  },
  {
   "cell_type": "code",
   "execution_count": 30,
   "id": "29ea6e55",
   "metadata": {},
   "outputs": [
    {
     "name": "stdout",
     "output_type": "stream",
     "text": [
      "[1, 2, 3, 4, 5, 6]\n",
      "[1, 2, 3, 4, 5, 6]\n"
     ]
    }
   ],
   "source": [
    "first_list=[1,2,3,4,5]\n",
    "\n",
    "second_list=first_list\n",
    "\n",
    "second_list.append(6)\n",
    "\n",
    "print(first_list)\n",
    "print(second_list)  # 6 is also added to the first list as a Shallow copy! "
   ]
  },
  {
   "cell_type": "code",
   "execution_count": 32,
   "id": "8a2a88d7",
   "metadata": {},
   "outputs": [
    {
     "data": {
      "text/plain": [
       "[9, 7, 5]"
      ]
     },
     "execution_count": 32,
     "metadata": {},
     "output_type": "execute_result"
    }
   ],
   "source": [
    "# what is printed from the given code?\n",
    "\n",
    "a=[1,2,3,4,5,6,7,8,9]\n",
    "\n",
    "a[-1: -6: -2]\n",
    "\n",
    "# results from right end to left upto 5th position with the interval of 2. "
   ]
  },
  {
   "cell_type": "markdown",
   "id": "583999cb",
   "metadata": {},
   "source": [
    "## Python Floor Division "
   ]
  },
  {
   "cell_type": "code",
   "execution_count": 33,
   "id": "0acf1221",
   "metadata": {},
   "outputs": [
    {
     "name": "stdout",
     "output_type": "stream",
     "text": [
      "2\n",
      "-4\n",
      "3.0\n",
      "-4.0\n"
     ]
    }
   ],
   "source": [
    "print(5//2)\n",
    "\n",
    "print(-7//2)    # in the number line -3.5 extends to -4. \n",
    "\n",
    "print(7.0//2)\n",
    "\n",
    "print(-7.0//2) # "
   ]
  },
  {
   "cell_type": "code",
   "execution_count": 38,
   "id": "351da794",
   "metadata": {},
   "outputs": [
    {
     "data": {
      "text/plain": [
       "'dlroW olleH'"
      ]
     },
     "execution_count": 38,
     "metadata": {},
     "output_type": "execute_result"
    }
   ],
   "source": [
    "# What is the output of the following piece of code?\n",
    "\n",
    "\"Hello World\" [:-1]   # results 'Hello Worl'\n",
    "\n",
    "# and how about this?\n",
    "\n",
    "\"Hello World\" [::-1]    # results complete opposite word.\n",
    "\n"
   ]
  },
  {
   "cell_type": "code",
   "execution_count": null,
   "id": "e4125175",
   "metadata": {},
   "outputs": [],
   "source": []
  },
  {
   "cell_type": "code",
   "execution_count": null,
   "id": "6cf78d1a",
   "metadata": {},
   "outputs": [],
   "source": []
  },
  {
   "cell_type": "code",
   "execution_count": null,
   "id": "3f15932d",
   "metadata": {},
   "outputs": [],
   "source": []
  },
  {
   "cell_type": "code",
   "execution_count": null,
   "id": "a66f27e0",
   "metadata": {},
   "outputs": [],
   "source": []
  },
  {
   "cell_type": "code",
   "execution_count": null,
   "id": "8fad19d3",
   "metadata": {},
   "outputs": [],
   "source": []
  },
  {
   "cell_type": "code",
   "execution_count": null,
   "id": "44fd9c38",
   "metadata": {},
   "outputs": [],
   "source": []
  },
  {
   "cell_type": "code",
   "execution_count": null,
   "id": "81e36b25",
   "metadata": {},
   "outputs": [],
   "source": []
  },
  {
   "cell_type": "code",
   "execution_count": null,
   "id": "bc9e8fb2",
   "metadata": {},
   "outputs": [],
   "source": []
  }
 ],
 "metadata": {
  "kernelspec": {
   "display_name": "Python 3 (ipykernel)",
   "language": "python",
   "name": "python3"
  },
  "language_info": {
   "codemirror_mode": {
    "name": "ipython",
    "version": 3
   },
   "file_extension": ".py",
   "mimetype": "text/x-python",
   "name": "python",
   "nbconvert_exporter": "python",
   "pygments_lexer": "ipython3",
   "version": "3.8.8"
  }
 },
 "nbformat": 4,
 "nbformat_minor": 5
}
